{
 "cells": [
  {
   "cell_type": "code",
   "execution_count": null,
   "id": "ec9daaee",
   "metadata": {},
   "outputs": [],
   "source": [
    "from pyspark import *\n",
    "from pyspark import RDD\n",
    "from pyspark.sql import *\n"
   ]
  },
  {
   "cell_type": "code",
   "execution_count": 1,
   "id": "9df0c639",
   "metadata": {},
   "outputs": [],
   "source": [
    "from pyspark import *\n",
    "from pyspark import RDD\n",
    "from pyspark.sql import *\n",
    "from pyspark.sql.functions import *"
   ]
  },
  {
   "cell_type": "code",
   "execution_count": 2,
   "id": "ad976484",
   "metadata": {},
   "outputs": [],
   "source": [
    "def create_spark_session():\n",
    "    sp = SparkSession.builder.master('local[*]').appName('word').getOrCreate()\n",
    "    return sp\n"
   ]
  },
  {
   "cell_type": "code",
   "execution_count": 3,
   "id": "05d49d91",
   "metadata": {},
   "outputs": [
    {
     "name": "stderr",
     "output_type": "stream",
     "text": [
      "/home/labuser/.local/lib/python3.6/site-packages/pyspark/context.py:238: FutureWarning: Python 3.6 support is deprecated in Spark 3.2.\n",
      "  FutureWarning\n"
     ]
    },
    {
     "data": {
      "text/html": [
       "\n",
       "            <div>\n",
       "                <p><b>SparkSession - in-memory</b></p>\n",
       "                \n",
       "        <div>\n",
       "            <p><b>SparkContext</b></p>\n",
       "\n",
       "            <p><a href=\"http://cdhserver:4040\">Spark UI</a></p>\n",
       "\n",
       "            <dl>\n",
       "              <dt>Version</dt>\n",
       "                <dd><code>v3.2.4</code></dd>\n",
       "              <dt>Master</dt>\n",
       "                <dd><code>local[*]</code></dd>\n",
       "              <dt>AppName</dt>\n",
       "                <dd><code>word</code></dd>\n",
       "            </dl>\n",
       "        </div>\n",
       "        \n",
       "            </div>\n",
       "        "
      ],
      "text/plain": [
       "<pyspark.sql.session.SparkSession at 0x7ffac43b7c18>"
      ]
     },
     "execution_count": 3,
     "metadata": {},
     "output_type": "execute_result"
    }
   ],
   "source": [
    "create_spark_session()"
   ]
  },
  {
   "cell_type": "code",
   "execution_count": 4,
   "id": "fd7cd7d4",
   "metadata": {},
   "outputs": [],
   "source": [
    "def read_data():\n",
    "    sp = SparkContext.getOrCreate()\n",
    "    data: RDD[str] = sp.textFile('hdfs://cdhserver:8020/user/labuser/madhan/paragrapgh.txt')\n",
    "    return data"
   ]
  },
  {
   "cell_type": "code",
   "execution_count": 5,
   "id": "7c8fe195",
   "metadata": {},
   "outputs": [
    {
     "data": {
      "text/plain": [
       "hdfs://cdhserver:8020/user/labuser/madhan/paragrapgh.txt MapPartitionsRDD[1] at textFile at NativeMethodAccessorImpl.java:0"
      ]
     },
     "execution_count": 5,
     "metadata": {},
     "output_type": "execute_result"
    }
   ],
   "source": [
    "read_data()"
   ]
  },
  {
   "cell_type": "code",
   "execution_count": 7,
   "id": "8ad31ea0",
   "metadata": {},
   "outputs": [],
   "source": [
    "spark = create_spark_session()\n",
    "data1 = read_data()"
   ]
  },
  {
   "cell_type": "code",
   "execution_count": 29,
   "id": "8a3da2a7",
   "metadata": {},
   "outputs": [
    {
     "name": "stdout",
     "output_type": "stream",
     "text": [
      "['JANA', 'GANA', 'MANA', 'ADHINAYAKA JAYA HE', 'BHARATA', 'BHAGYA', 'VIDHATA', 'PUNJABA', 'SINDHU', 'GUJARATA', 'MARATHA', 'DRAVIDA', 'UTKALA', 'BANGA', 'VINDHYA', 'HIMACHALA', 'YAMUNA', 'GANGA', 'UCHCHALA', 'JALADHI', 'TARANGA', 'TAVA SHUBHA NAME JAGE, TAVA SHUBHA ASISA MAGE,', 'GAHE TAVA JAYA', 'GATHA.', 'JANA', 'GANA', 'MANGALA', 'DAYAKA JAYA HE', 'BHARATA', 'BHAGYA', 'VIDHATA.', 'JAYA HE, JAYA HE, JAYA HE,', 'JAYA JAYA JAYA, JAYA HE']\n"
     ]
    }
   ],
   "source": [
    "#convert data into  upper or lowercase \n",
    "#split by -\n",
    "\n",
    "data = data1.flatMap(lambda d: d.upper().split(\"-\"))\n",
    "print(data.collect())"
   ]
  },
  {
   "cell_type": "code",
   "execution_count": 31,
   "id": "d54163b4",
   "metadata": {},
   "outputs": [
    {
     "name": "stdout",
     "output_type": "stream",
     "text": [
      "['JANA', 'GANA', 'MANA', 'ADHINAYAKA', 'JAYA', 'HE', 'BHARATA', 'BHAGYA', 'VIDHATA', 'PUNJABA']\n"
     ]
    }
   ],
   "source": [
    "#remove , and . from words and splitting by space\n",
    "data = data.flatMap(lambda y: y.replace(\",\", \"\").replace(\".\", \"\").split(\" \"))\n",
    "print(data.take(10))"
   ]
  },
  {
   "cell_type": "code",
   "execution_count": 32,
   "id": "7b005b68",
   "metadata": {},
   "outputs": [],
   "source": [
    "#take( ) used fro collecting specific items in rdd"
   ]
  },
  {
   "cell_type": "code",
   "execution_count": 36,
   "id": "c9cf99cb",
   "metadata": {},
   "outputs": [
    {
     "name": "stdout",
     "output_type": "stream",
     "text": [
      "[('JANA', 1), ('GANA', 1), ('MANA', 1), ('ADHINAYAKA', 1), ('JAYA', 1), ('HE', 1), ('BHARATA', 1), ('BHAGYA', 1), ('VIDHATA', 1), ('PUNJABA', 1), ('SINDHU', 1), ('GUJARATA', 1), ('MARATHA', 1), ('DRAVIDA', 1), ('UTKALA', 1), ('BANGA', 1), ('VINDHYA', 1), ('HIMACHALA', 1), ('YAMUNA', 1), ('GANGA', 1), ('UCHCHALA', 1), ('JALADHI', 1), ('TARANGA', 1), ('TAVA', 1), ('SHUBHA', 1), ('NAME', 1), ('JAGE', 1), ('TAVA', 1), ('SHUBHA', 1), ('ASISA', 1), ('MAGE', 1), ('GAHE', 1), ('TAVA', 1), ('JAYA', 1), ('GATHA', 1), ('JANA', 1), ('GANA', 1), ('MANGALA', 1), ('DAYAKA', 1), ('JAYA', 1), ('HE', 1), ('BHARATA', 1), ('BHAGYA', 1), ('VIDHATA', 1), ('JAYA', 1), ('HE', 1), ('JAYA', 1), ('HE', 1), ('JAYA', 1), ('HE', 1), ('JAYA', 1), ('JAYA', 1), ('JAYA', 1), ('JAYA', 1), ('HE', 1)]\n"
     ]
    }
   ],
   "source": [
    "#map the each word with 1 like key and value (key,value)\n",
    "data_after_map = data.map(lambda xyz: (xyz, 1))\n",
    "print(data_after_map.collect())"
   ]
  },
  {
   "cell_type": "code",
   "execution_count": 37,
   "id": "32398cab",
   "metadata": {},
   "outputs": [
    {
     "name": "stdout",
     "output_type": "stream",
     "text": [
      "[('JANA', 2), ('GANA', 2), ('ADHINAYAKA', 1), ('HE', 6), ('VIDHATA', 2), ('DRAVIDA', 1), ('BANGA', 1), ('HIMACHALA', 1), ('NAME', 1), ('GAHE', 1), ('DAYAKA', 1), ('MANA', 1), ('JAYA', 10), ('BHARATA', 2), ('BHAGYA', 2), ('PUNJABA', 1), ('SINDHU', 1), ('GUJARATA', 1), ('MARATHA', 1), ('UTKALA', 1), ('VINDHYA', 1), ('YAMUNA', 1), ('GANGA', 1), ('UCHCHALA', 1), ('JALADHI', 1), ('TARANGA', 1), ('TAVA', 3), ('SHUBHA', 2), ('JAGE', 1), ('ASISA', 1), ('MAGE', 1), ('GATHA', 1), ('MANGALA', 1)]\n"
     ]
    }
   ],
   "source": [
    "#reduce the key and value by mapping key and sumthe values \n",
    "data = data_after_map.reduceByKey(lambda x, y: x + y)\n",
    "print(data.collect())"
   ]
  },
  {
   "cell_type": "code",
   "execution_count": 38,
   "id": "7c400723",
   "metadata": {},
   "outputs": [
    {
     "data": {
      "text/plain": [
       "[('JANA', 2),\n",
       " ('GANA', 2),\n",
       " ('ADHINAYAKA', 1),\n",
       " ('HE', 6),\n",
       " ('VIDHATA', 2),\n",
       " ('DRAVIDA', 1),\n",
       " ('BANGA', 1),\n",
       " ('HIMACHALA', 1),\n",
       " ('NAME', 1),\n",
       " ('GAHE', 1),\n",
       " ('DAYAKA', 1),\n",
       " ('MANA', 1),\n",
       " ('JAYA', 10),\n",
       " ('BHARATA', 2),\n",
       " ('BHAGYA', 2),\n",
       " ('PUNJABA', 1),\n",
       " ('SINDHU', 1),\n",
       " ('GUJARATA', 1),\n",
       " ('MARATHA', 1),\n",
       " ('UTKALA', 1),\n",
       " ('VINDHYA', 1),\n",
       " ('YAMUNA', 1),\n",
       " ('GANGA', 1),\n",
       " ('UCHCHALA', 1),\n",
       " ('JALADHI', 1),\n",
       " ('TARANGA', 1),\n",
       " ('TAVA', 3),\n",
       " ('SHUBHA', 2),\n",
       " ('JAGE', 1),\n",
       " ('ASISA', 1),\n",
       " ('MAGE', 1),\n",
       " ('GATHA', 1),\n",
       " ('MANGALA', 1)]"
      ]
     },
     "execution_count": 38,
     "metadata": {},
     "output_type": "execute_result"
    }
   ],
   "source": [
    "data.collect()"
   ]
  },
  {
   "cell_type": "code",
   "execution_count": null,
   "id": "207dea49",
   "metadata": {},
   "outputs": [],
   "source": [
    " "
   ]
  }
 ],
 "metadata": {
  "kernelspec": {
   "display_name": "Python 3.6.8 64-bit",
   "language": "python",
   "name": "python36864bit3e2a3d03c3444a89844a2dcf38e2377c"
  },
  "language_info": {
   "codemirror_mode": {
    "name": "ipython",
    "version": 3
   },
   "file_extension": ".py",
   "mimetype": "text/x-python",
   "name": "python",
   "nbconvert_exporter": "python",
   "pygments_lexer": "ipython3",
   "version": "3.6.8"
  }
 },
 "nbformat": 4,
 "nbformat_minor": 5
}

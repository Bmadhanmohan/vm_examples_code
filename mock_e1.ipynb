{
 "cells": [
  {
   "cell_type": "code",
   "execution_count": 2,
   "id": "b4be7d86",
   "metadata": {},
   "outputs": [],
   "source": [
    "from pyspark.sql import *\n",
    "from pyspark.sql.types import StructType, StructField, DoubleType, StringType\n",
    "from pyspark import *\n",
    "from pyspark.sql.functions import *\n",
    "import pyspark.sql.functions as F\n"
   ]
  },
  {
   "cell_type": "code",
   "execution_count": 3,
   "id": "88479ec7",
   "metadata": {},
   "outputs": [],
   "source": [
    "vehicles = StructType([\n",
    "    StructField(\"vehicleId\", StringType()),\n",
    "    StructField(\"efficiency\", DoubleType())\n",
    "])\n"
   ]
  },
  {
   "cell_type": "code",
   "execution_count": 4,
   "id": "4b353dac",
   "metadata": {},
   "outputs": [],
   "source": [
    "def init_spark_session() -> SparkSession:\n",
    "    # TODO: add your code here\n",
    "    spark = SparkSession.builder.master('local').appName('Faulty Vehicle Detection').getOrCreate()\n",
    "    return spark\n"
   ]
  },
  {
   "cell_type": "code",
   "execution_count": 5,
   "id": "2b36281a",
   "metadata": {},
   "outputs": [
    {
     "name": "stderr",
     "output_type": "stream",
     "text": [
      "/home/labuser/.local/lib/python3.6/site-packages/pyspark/context.py:238: FutureWarning: Python 3.6 support is deprecated in Spark 3.2.\n",
      "  FutureWarning\n"
     ]
    }
   ],
   "source": [
    "spark=init_spark_session()"
   ]
  },
  {
   "cell_type": "code",
   "execution_count": 6,
   "id": "7094bba9",
   "metadata": {},
   "outputs": [],
   "source": [
    "def read_csv(input_path: str) -> DataFrame:\n",
    "    # TODO: add your code here\n",
    "    data = SparkSession.builder.getOrCreate().read.format(\"csv\").option(\"header\", \"True\").schema(vehicles).load(\n",
    "        input_path)\n",
    "    return data"
   ]
  },
  {
   "cell_type": "code",
   "execution_count": 7,
   "id": "5212c7d6",
   "metadata": {},
   "outputs": [],
   "source": [
    "data_observed=read_csv(\"spark_mock_text/data/vehicles_observed_efficiency.csv\")"
   ]
  },
  {
   "cell_type": "code",
   "execution_count": 8,
   "id": "49cf78ea",
   "metadata": {},
   "outputs": [
    {
     "data": {
      "text/plain": [
       "DataFrame[summary: string, vehicleId: string, efficiency: string]"
      ]
     },
     "execution_count": 8,
     "metadata": {},
     "output_type": "execute_result"
    }
   ],
   "source": [
    "data_observed.describe()"
   ]
  },
  {
   "cell_type": "code",
   "execution_count": 9,
   "id": "07fe8d84",
   "metadata": {},
   "outputs": [
    {
     "name": "stdout",
     "output_type": "stream",
     "text": [
      "+---------+----------+\n",
      "|vehicleId|efficiency|\n",
      "+---------+----------+\n",
      "|       v1|      23.0|\n",
      "|       v1|      24.0|\n",
      "|       v1|      26.0|\n",
      "|       v2|      27.0|\n",
      "|       v2|      28.0|\n",
      "|       v2|      31.0|\n",
      "|       v2|      32.0|\n",
      "|       v3|      36.0|\n",
      "|       v3|      34.0|\n",
      "|       v3|      35.0|\n",
      "|       v4|      38.0|\n",
      "|       v4|      39.0|\n",
      "|       v4|      41.0|\n",
      "|       v4|      43.0|\n",
      "|       v5|      46.0|\n",
      "|       v5|      44.0|\n",
      "|       v5|      47.0|\n",
      "+---------+----------+\n",
      "\n"
     ]
    }
   ],
   "source": [
    "data_observed.show()"
   ]
  },
  {
   "cell_type": "code",
   "execution_count": 10,
   "id": "21560b27",
   "metadata": {},
   "outputs": [],
   "source": [
    "def calc_average_efficiency(observed: DataFrame) -> DataFrame:\n",
    "    # TODO: add your code here\n",
    "    data = observed.groupBy(observed.vehicleId).agg({\"efficiency\": \"avg\"}).withColumnRenamed('avg(efficiency)',\n",
    "                                                                                             'fuelEfficiency')\n",
    "    data = data.select(data.vehicleId, data.fuelEfficiency)\n",
    "    return data"
   ]
  },
  {
   "cell_type": "code",
   "execution_count": 11,
   "id": "5b854b99",
   "metadata": {},
   "outputs": [],
   "source": [
    "data_observed=calc_average_efficiency(data_observed)"
   ]
  },
  {
   "cell_type": "code",
   "execution_count": 12,
   "id": "7babfbf6",
   "metadata": {},
   "outputs": [
    {
     "name": "stdout",
     "output_type": "stream",
     "text": [
      "+---------+------------------+\n",
      "|vehicleId|    fuelEfficiency|\n",
      "+---------+------------------+\n",
      "|       v5|45.666666666666664|\n",
      "|       v2|              29.5|\n",
      "|       v1|24.333333333333332|\n",
      "|       v3|              35.0|\n",
      "|       v4|             40.25|\n",
      "+---------+------------------+\n",
      "\n"
     ]
    }
   ],
   "source": [
    "data_observed.show()"
   ]
  },
  {
   "cell_type": "markdown",
   "id": "b2783396",
   "metadata": {},
   "source": []
  },
  {
   "cell_type": "code",
   "execution_count": 13,
   "id": "509911d6",
   "metadata": {},
   "outputs": [],
   "source": [
    "data_released=read_csv(\"spark_mock_text/data/vehicles_required_efficiency.csv\")"
   ]
  },
  {
   "cell_type": "code",
   "execution_count": 14,
   "id": "7d5c88ca",
   "metadata": {},
   "outputs": [
    {
     "name": "stdout",
     "output_type": "stream",
     "text": [
      "+---------+----------+\n",
      "|vehicleId|efficiency|\n",
      "+---------+----------+\n",
      "|       v1|      25.0|\n",
      "|       v2|      30.0|\n",
      "|       v3|      35.0|\n",
      "|       v4|      40.0|\n",
      "|       v5|      45.0|\n",
      "+---------+----------+\n",
      "\n"
     ]
    }
   ],
   "source": [
    "data_released.show()"
   ]
  },
  {
   "cell_type": "code",
   "execution_count": 23,
   "id": "6a2c34bc",
   "metadata": {},
   "outputs": [],
   "source": [
    "def find_faulty_vehicles(avg_observed: DataFrame, required: DataFrame) -> DataFrame:\n",
    "    avg_observed.show()\n",
    "    required.show()\n",
    "    df=avg_observed.join(required, avg_observed.vehicleId == required.vehicleId, \"inner\")\n",
    "    df.show()\n",
    "    df =df.withColumn(\"obs\", round(df.fuelEfficiency- df.efficiency))\n",
    "    df.show()\n",
    "   \n",
    "    df = df.filter(df.obs<=5)\n",
    "    df.show()\n",
    "    return df\n",
    "    #df.select(df.vehicleId, df.faulty_effieicency)"
   ]
  },
  {
   "cell_type": "code",
   "execution_count": 24,
   "id": "fc1d57ae",
   "metadata": {},
   "outputs": [
    {
     "name": "stdout",
     "output_type": "stream",
     "text": [
      "+---------+------------------+\n",
      "|vehicleId|    fuelEfficiency|\n",
      "+---------+------------------+\n",
      "|       v5|45.666666666666664|\n",
      "|       v2|              29.5|\n",
      "|       v1|24.333333333333332|\n",
      "|       v3|              35.0|\n",
      "|       v4|             40.25|\n",
      "+---------+------------------+\n",
      "\n",
      "+---------+----------+\n",
      "|vehicleId|efficiency|\n",
      "+---------+----------+\n",
      "|       v1|      25.0|\n",
      "|       v2|      30.0|\n",
      "|       v3|      35.0|\n",
      "|       v4|      40.0|\n",
      "|       v5|      45.0|\n",
      "+---------+----------+\n",
      "\n",
      "+---------+------------------+---------+----------+\n",
      "|vehicleId|    fuelEfficiency|vehicleId|efficiency|\n",
      "+---------+------------------+---------+----------+\n",
      "|       v5|45.666666666666664|       v5|      45.0|\n",
      "|       v2|              29.5|       v2|      30.0|\n",
      "|       v1|24.333333333333332|       v1|      25.0|\n",
      "|       v3|              35.0|       v3|      35.0|\n",
      "|       v4|             40.25|       v4|      40.0|\n",
      "+---------+------------------+---------+----------+\n",
      "\n",
      "+---------+------------------+---------+----------+----+\n",
      "|vehicleId|    fuelEfficiency|vehicleId|efficiency| obs|\n",
      "+---------+------------------+---------+----------+----+\n",
      "|       v5|45.666666666666664|       v5|      45.0| 1.0|\n",
      "|       v2|              29.5|       v2|      30.0|-1.0|\n",
      "|       v1|24.333333333333332|       v1|      25.0|-1.0|\n",
      "|       v3|              35.0|       v3|      35.0| 0.0|\n",
      "|       v4|             40.25|       v4|      40.0| 0.0|\n",
      "+---------+------------------+---------+----------+----+\n",
      "\n",
      "+---------+------------------+---------+----------+----+\n",
      "|vehicleId|    fuelEfficiency|vehicleId|efficiency| obs|\n",
      "+---------+------------------+---------+----------+----+\n",
      "|       v5|45.666666666666664|       v5|      45.0| 1.0|\n",
      "|       v2|              29.5|       v2|      30.0|-1.0|\n",
      "|       v1|24.333333333333332|       v1|      25.0|-1.0|\n",
      "|       v3|              35.0|       v3|      35.0| 0.0|\n",
      "|       v4|             40.25|       v4|      40.0| 0.0|\n",
      "+---------+------------------+---------+----------+----+\n",
      "\n"
     ]
    }
   ],
   "source": [
    "df=find_faulty_vehicles(data_observed,data_released)"
   ]
  },
  {
   "cell_type": "code",
   "execution_count": 31,
   "id": "b31c06af",
   "metadata": {},
   "outputs": [],
   "source": [
    "def save_as(data: DataFrame, output_path: str) -> None:\n",
    "    # TODO: add your code here\n",
    "    rdd_data=data.rdd()\n",
    "    rdd_data.repartition(3)\n",
    "    rdd_data.saveAsTextFile(output_path)\n"
   ]
  },
  {
   "cell_type": "code",
   "execution_count": 32,
   "id": "2043d78e",
   "metadata": {},
   "outputs": [
    {
     "ename": "TypeError",
     "evalue": "'RDD' object is not callable",
     "output_type": "error",
     "traceback": [
      "\u001b[0;31m---------------------------------------------------------------------------\u001b[0m",
      "\u001b[0;31mTypeError\u001b[0m                                 Traceback (most recent call last)",
      "\u001b[0;32m<ipython-input-32-4ebb0be267f9>\u001b[0m in \u001b[0;36m<module>\u001b[0;34m\u001b[0m\n\u001b[0;32m----> 1\u001b[0;31m \u001b[0msave_as\u001b[0m\u001b[0;34m(\u001b[0m\u001b[0mdf\u001b[0m\u001b[0;34m,\u001b[0m\u001b[0;34m'mock_e1'\u001b[0m\u001b[0;34m)\u001b[0m\u001b[0;34m\u001b[0m\u001b[0;34m\u001b[0m\u001b[0m\n\u001b[0m",
      "\u001b[0;32m<ipython-input-31-6bc0ad8c01cf>\u001b[0m in \u001b[0;36msave_as\u001b[0;34m(data, output_path)\u001b[0m\n\u001b[1;32m      1\u001b[0m \u001b[0;32mdef\u001b[0m \u001b[0msave_as\u001b[0m\u001b[0;34m(\u001b[0m\u001b[0mdata\u001b[0m\u001b[0;34m:\u001b[0m \u001b[0mDataFrame\u001b[0m\u001b[0;34m,\u001b[0m \u001b[0moutput_path\u001b[0m\u001b[0;34m:\u001b[0m \u001b[0mstr\u001b[0m\u001b[0;34m)\u001b[0m \u001b[0;34m->\u001b[0m \u001b[0;32mNone\u001b[0m\u001b[0;34m:\u001b[0m\u001b[0;34m\u001b[0m\u001b[0;34m\u001b[0m\u001b[0m\n\u001b[1;32m      2\u001b[0m     \u001b[0;31m# TODO: add your code here\u001b[0m\u001b[0;34m\u001b[0m\u001b[0;34m\u001b[0m\u001b[0;34m\u001b[0m\u001b[0m\n\u001b[0;32m----> 3\u001b[0;31m     \u001b[0mrdd_data\u001b[0m\u001b[0;34m=\u001b[0m\u001b[0mdata\u001b[0m\u001b[0;34m.\u001b[0m\u001b[0mrdd\u001b[0m\u001b[0;34m(\u001b[0m\u001b[0;34m)\u001b[0m\u001b[0;34m\u001b[0m\u001b[0;34m\u001b[0m\u001b[0m\n\u001b[0m\u001b[1;32m      4\u001b[0m     \u001b[0mrdd_data\u001b[0m\u001b[0;34m.\u001b[0m\u001b[0mrepartition\u001b[0m\u001b[0;34m(\u001b[0m\u001b[0;36m3\u001b[0m\u001b[0;34m)\u001b[0m\u001b[0;34m\u001b[0m\u001b[0;34m\u001b[0m\u001b[0m\n\u001b[1;32m      5\u001b[0m     \u001b[0mrdd_data\u001b[0m\u001b[0;34m.\u001b[0m\u001b[0msaveAsTextFile\u001b[0m\u001b[0;34m(\u001b[0m\u001b[0moutput_path\u001b[0m\u001b[0;34m)\u001b[0m\u001b[0;34m\u001b[0m\u001b[0;34m\u001b[0m\u001b[0m\n",
      "\u001b[0;31mTypeError\u001b[0m: 'RDD' object is not callable"
     ]
    }
   ],
   "source": [
    "save_as(df,'mock_e1')"
   ]
  },
  {
   "cell_type": "code",
   "execution_count": null,
   "id": "9a301d21",
   "metadata": {},
   "outputs": [],
   "source": []
  }
 ],
 "metadata": {
  "kernelspec": {
   "display_name": "Python 3.6.8 64-bit",
   "language": "python",
   "name": "python36864bit3e2a3d03c3444a89844a2dcf38e2377c"
  },
  "language_info": {
   "codemirror_mode": {
    "name": "ipython",
    "version": 3
   },
   "file_extension": ".py",
   "mimetype": "text/x-python",
   "name": "python",
   "nbconvert_exporter": "python",
   "pygments_lexer": "ipython3",
   "version": "3.6.8"
  }
 },
 "nbformat": 4,
 "nbformat_minor": 5
}

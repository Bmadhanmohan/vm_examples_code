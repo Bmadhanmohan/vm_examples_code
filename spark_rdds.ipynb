{
 "cells": [
  {
   "cell_type": "code",
   "execution_count": 3,
   "id": "ce3c7317",
   "metadata": {},
   "outputs": [
    {
     "data": {
      "text/plain": [
       "'In Apache Spark, Resilient Distributed Datasets (RDDs) are the fundamental data structure, and you can perform various operations on them. RDD operations in Spark can be categorized into two types: Transformations and Actions.\\n\\nTransformations:\\n\\nMap: Applies a function to each element of the RDD.\\nFilter: Selects elements based on a given condition.\\nFlatMap: Similar to Map, but each input item can be mapped to zero or more output items.\\nUnion: Returns a new RDD containing elements from both source RDDs.\\nDistinct: Returns a new RDD with distinct elements.\\nGroupByKey: Groups the elements of the RDD based on a key.\\nReduceByKey: Aggregates values of each key using a specified reduce function.\\nSortByKey: Sorts the RDD based on keys.\\nJoin: Performs an inner join between two RDDs based on their keys.\\nActions:\\n\\nCollect: Returns all elements of the RDD as an array to the driver program.\\nCount: Returns the number of elements in the RDD.\\nFirst: Returns the first element of the RDD.\\nTake: Returns the first n elements of the RDD.\\nReduce: Aggregates the elements of the RDD using a specified associative and commutative function.\\nForeach: Applies a function to each element of the RDD (useful for side effects).\\n\\n'"
      ]
     },
     "execution_count": 3,
     "metadata": {},
     "output_type": "execute_result"
    }
   ],
   "source": [
    "\"\"\"In Apache Spark, Resilient Distributed Datasets (RDDs) are the fundamental data structure, and you can perform various operations on them. RDD operations in Spark can be categorized into two types: Transformations and Actions.\n",
    "\n",
    "Transformations:\n",
    "\n",
    "Map: Applies a function to each element of the RDD.\n",
    "Filter: Selects elements based on a given condition.\n",
    "FlatMap: Similar to Map, but each input item can be mapped to zero or more output items.\n",
    "Union: Returns a new RDD containing elements from both source RDDs.\n",
    "Distinct: Returns a new RDD with distinct elements.\n",
    "GroupByKey: Groups the elements of the RDD based on a key.\n",
    "ReduceByKey: Aggregates values of each key using a specified reduce function.\n",
    "SortByKey: Sorts the RDD based on keys.\n",
    "Join: Performs an inner join between two RDDs based on their keys.\n",
    "Actions:\n",
    "\n",
    "Collect: Returns all elements of the RDD as an array to the driver program.\n",
    "Count: Returns the number of elements in the RDD.\n",
    "First: Returns the first element of the RDD.\n",
    "Take: Returns the first n elements of the RDD.\n",
    "Reduce: Aggregates the elements of the RDD using a specified associative and commutative function.\n",
    "Foreach: Applies a function to each element of the RDD (useful for side effects).\n",
    "\n",
    "\"\"\""
   ]
  },
  {
   "cell_type": "code",
   "execution_count": 4,
   "id": "ea9947bd",
   "metadata": {},
   "outputs": [
    {
     "name": "stderr",
     "output_type": "stream",
     "text": [
      "/home/labuser/.local/lib/python3.6/site-packages/pyspark/context.py:238: FutureWarning: Python 3.6 support is deprecated in Spark 3.2.\n",
      "  FutureWarning\n"
     ]
    },
    {
     "name": "stdout",
     "output_type": "stream",
     "text": [
      "[('Alice', 26.5), ('Bob', 31.0), ('Charlie', 22.0)]\n"
     ]
    }
   ],
   "source": [
    "from pyspark import SparkContext\n",
    "\n",
    "# Create a Spark context\n",
    "sc = SparkContext(\"local\", \"GroupByRDDExample\")\n",
    "\n",
    "# Sample data\n",
    "data = [(\"Alice\", 25), (\"Bob\", 30), (\"Charlie\", 22), (\"Alice\", 28), (\"Bob\", 32)]\n",
    "\n",
    "# Create an RDD\n",
    "myRDD = sc.parallelize(data)\n",
    "\n",
    "# Perform groupByKey transformation\n",
    "groupedRDD = myRDD.groupByKey()\n",
    "\n",
    "# Calculate average age for each group\n",
    "averageAgeRDD = groupedRDD.mapValues(lambda ages: sum(ages) / len(ages))\n",
    "\n",
    "# Collect and display the result\n",
    "result = averageAgeRDD.collect()\n",
    "print(result)\n",
    "\n",
    "# Stop the Spark context\n",
    "sc.stop()"
   ]
  },
  {
   "cell_type": "code",
   "execution_count": 23,
   "id": "957bab89",
   "metadata": {},
   "outputs": [],
   "source": [
    "from pyspark.sql import *\n",
    "from pyspark.sql.functions import *\n"
   ]
  },
  {
   "cell_type": "code",
   "execution_count": 7,
   "id": "80a255a0",
   "metadata": {},
   "outputs": [
    {
     "name": "stderr",
     "output_type": "stream",
     "text": [
      "/home/labuser/.local/lib/python3.6/site-packages/pyspark/context.py:238: FutureWarning: Python 3.6 support is deprecated in Spark 3.2.\n",
      "  FutureWarning\n"
     ]
    }
   ],
   "source": [
    "spark=SparkSession.builder.getOrCreate()"
   ]
  },
  {
   "cell_type": "code",
   "execution_count": 14,
   "id": "dded409b",
   "metadata": {},
   "outputs": [],
   "source": [
    "data1=spark.read.csv('sources/student_dataset.csv',inferSchema=True,header=True)"
   ]
  },
  {
   "cell_type": "code",
   "execution_count": 15,
   "id": "b1df2bef",
   "metadata": {},
   "outputs": [
    {
     "data": {
      "text/plain": [
       "DataFrame[StudentID: int, FirstName: string, LastName: string, Gender: string, DOB: string, Grade: int]"
      ]
     },
     "execution_count": 15,
     "metadata": {},
     "output_type": "execute_result"
    }
   ],
   "source": [
    "data1\n"
   ]
  },
  {
   "cell_type": "code",
   "execution_count": 16,
   "id": "0705635d",
   "metadata": {},
   "outputs": [
    {
     "name": "stdout",
     "output_type": "stream",
     "text": [
      "+---------+---------+--------+------+----------+-----+\n",
      "|StudentID|FirstName|LastName|Gender|       DOB|Grade|\n",
      "+---------+---------+--------+------+----------+-----+\n",
      "|        1|     John|    null|  Male|1995-05-10|   12|\n",
      "|        2|     Jane|    null|Female|1996-08-22| null|\n",
      "|        3|     Mark| Johnson|  Male|1997-03-15|   10|\n",
      "|        4|    Emily|Williams|Female|1998-11-28| null|\n",
      "|        5|  Michael|    null|  Male|1999-07-04|   11|\n",
      "|        6|     Emma|   Jones|Female|2000-01-19|   10|\n",
      "|        7|  William|    null|  Male|2001-09-03|    9|\n",
      "|        8|   Sophia|  Miller|Female|2002-04-12|   11|\n",
      "|        9|    Aiden|    null|  Male|2003-10-27|   10|\n",
      "|       10|   Olivia|  Martin|Female|2004-06-08| null|\n",
      "+---------+---------+--------+------+----------+-----+\n",
      "\n"
     ]
    }
   ],
   "source": [
    "data1.show()"
   ]
  },
  {
   "cell_type": "code",
   "execution_count": 57,
   "id": "9863b1ef",
   "metadata": {},
   "outputs": [],
   "source": [
    "data2=spark.read.csv('sources/student_dataset2.csv',inferSchema=True,header=True)"
   ]
  },
  {
   "cell_type": "code",
   "execution_count": 58,
   "id": "a98ae9e0",
   "metadata": {},
   "outputs": [],
   "source": [
    "data2=data2.withColumnRenamed('LastName','lname')"
   ]
  },
  {
   "cell_type": "code",
   "execution_count": 59,
   "id": "afc7c2e7",
   "metadata": {},
   "outputs": [
    {
     "name": "stdout",
     "output_type": "stream",
     "text": [
      "+---------+---------+--------+------+----------+-----+\n",
      "|StudentID|FirstName|   lname|Gender|       DOB|Grade|\n",
      "+---------+---------+--------+------+----------+-----+\n",
      "|        1|     John|      MM|  Male|1995-05-10|   12|\n",
      "|        2|     Jane|    null|Female|1996-08-22|   10|\n",
      "|        3|     Mark| Johnson|  Male|1997-03-15|   10|\n",
      "|        4|    Emily|Williams|Female|1998-11-28|   10|\n",
      "|        5|  Michael|      HH|  Male|1999-07-04|   11|\n",
      "|        6|     Emma|   Jones|Female|2000-01-19|   10|\n",
      "|        7|  William|    null|  Male|2001-09-03|    9|\n",
      "|        8|   Sophia|  Miller|Female|2002-04-12|   11|\n",
      "|        9|    Aiden|     NNN|  Male|2003-10-27|   10|\n",
      "+---------+---------+--------+------+----------+-----+\n",
      "\n"
     ]
    }
   ],
   "source": [
    "data2.show()"
   ]
  },
  {
   "cell_type": "code",
   "execution_count": 60,
   "id": "3060ae84",
   "metadata": {},
   "outputs": [],
   "source": [
    "data3=data1.join(data2,data1.StudentID==data2.StudentID,\"inner\")"
   ]
  },
  {
   "cell_type": "code",
   "execution_count": 62,
   "id": "9abde1b7",
   "metadata": {},
   "outputs": [
    {
     "name": "stdout",
     "output_type": "stream",
     "text": [
      "+--------+-------------------------+\n",
      "|LastName|coalesce(LastName, lname)|\n",
      "+--------+-------------------------+\n",
      "|    null|                       MM|\n",
      "|    null|                     null|\n",
      "| Johnson|                  Johnson|\n",
      "|Williams|                 Williams|\n",
      "|    null|                       HH|\n",
      "|   Jones|                    Jones|\n",
      "|    null|                     null|\n",
      "|  Miller|                   Miller|\n",
      "|    null|                      NNN|\n",
      "+--------+-------------------------+\n",
      "\n"
     ]
    }
   ],
   "source": [
    "data3.select('LastName',coalesce(data3['LastName'],data3['lname'])).show()"
   ]
  },
  {
   "cell_type": "code",
   "execution_count": 54,
   "id": "97d1afbb",
   "metadata": {},
   "outputs": [
    {
     "name": "stdout",
     "output_type": "stream",
     "text": [
      "+---------+---------+--------+------+----------+-----+\n",
      "|StudentID|FirstName|LastName|Gender|       DOB|Grade|\n",
      "+---------+---------+--------+------+----------+-----+\n",
      "|        1|     John|    null|  Male|1995-05-10|   12|\n",
      "|        2|     Jane|    null|Female|1996-08-22| null|\n",
      "|        3|     Mark| Johnson|  Male|1997-03-15|   10|\n",
      "|        4|    Emily|Williams|Female|1998-11-28| null|\n",
      "|        5|  Michael|    null|  Male|1999-07-04|   11|\n",
      "|        6|     Emma|   Jones|Female|2000-01-19|   10|\n",
      "|        7|  William|    null|  Male|2001-09-03|    9|\n",
      "|        8|   Sophia|  Miller|Female|2002-04-12|   11|\n",
      "|        9|    Aiden|    null|  Male|2003-10-27|   10|\n",
      "|       10|   Olivia|  Martin|Female|2004-06-08| null|\n",
      "+---------+---------+--------+------+----------+-----+\n",
      "\n"
     ]
    }
   ],
   "source": [
    "data1.show()"
   ]
  },
  {
   "cell_type": "code",
   "execution_count": 63,
   "id": "4427ef2b",
   "metadata": {},
   "outputs": [
    {
     "name": "stdout",
     "output_type": "stream",
     "text": [
      "+---------+---------+--------+------+----------+-----+\n",
      "|StudentID|FirstName|LastName|Gender|       DOB|Grade|\n",
      "+---------+---------+--------+------+----------+-----+\n",
      "|        1|     John|    null|  Male|1995-05-10|   12|\n",
      "|        2|     Jane|    null|Female|1996-08-22| null|\n",
      "|        3|     Mark| Johnson|  Male|1997-03-15|   10|\n",
      "|        4|    Emily|Williams|Female|1998-11-28| null|\n",
      "|        5|  Michael|    null|  Male|1999-07-04|   11|\n",
      "|        6|     Emma|   Jones|Female|2000-01-19|   10|\n",
      "|        7|  William|    null|  Male|2001-09-03|    9|\n",
      "|        8|   Sophia|  Miller|Female|2002-04-12|   11|\n",
      "|        9|    Aiden|    null|  Male|2003-10-27|   10|\n",
      "|       10|   Olivia|  Martin|Female|2004-06-08| null|\n",
      "+---------+---------+--------+------+----------+-----+\n",
      "\n"
     ]
    }
   ],
   "source": [
    "data1.show()"
   ]
  },
  {
   "cell_type": "code",
   "execution_count": 67,
   "id": "7b8f76d3",
   "metadata": {},
   "outputs": [],
   "source": [
    "data4=data1.groupBy('Gender')"
   ]
  },
  {
   "cell_type": "code",
   "execution_count": 70,
   "id": "ae78d3a4",
   "metadata": {},
   "outputs": [
    {
     "ename": "AttributeError",
     "evalue": "'GroupedData' object has no attribute 'select'",
     "output_type": "error",
     "traceback": [
      "\u001b[0;31m---------------------------------------------------------------------------\u001b[0m",
      "\u001b[0;31mAttributeError\u001b[0m                            Traceback (most recent call last)",
      "\u001b[0;32m<ipython-input-70-003767004fd4>\u001b[0m in \u001b[0;36m<module>\u001b[0;34m\u001b[0m\n\u001b[0;32m----> 1\u001b[0;31m \u001b[0mdata4\u001b[0m\u001b[0;34m.\u001b[0m\u001b[0mselect\u001b[0m\u001b[0;34m(\u001b[0m\u001b[0;34m'*'\u001b[0m\u001b[0;34m)\u001b[0m\u001b[0;34m\u001b[0m\u001b[0;34m\u001b[0m\u001b[0m\n\u001b[0m",
      "\u001b[0;31mAttributeError\u001b[0m: 'GroupedData' object has no attribute 'select'"
     ]
    }
   ],
   "source": [
    "data4."
   ]
  },
  {
   "cell_type": "code",
   "execution_count": null,
   "id": "691c2383",
   "metadata": {},
   "outputs": [],
   "source": []
  }
 ],
 "metadata": {
  "kernelspec": {
   "display_name": "Python 3.6.8 64-bit",
   "language": "python",
   "name": "python36864bit3e2a3d03c3444a89844a2dcf38e2377c"
  },
  "language_info": {
   "codemirror_mode": {
    "name": "ipython",
    "version": 3
   },
   "file_extension": ".py",
   "mimetype": "text/x-python",
   "name": "python",
   "nbconvert_exporter": "python",
   "pygments_lexer": "ipython3",
   "version": "3.6.8"
  }
 },
 "nbformat": 4,
 "nbformat_minor": 5
}

{
 "cells": [
  {
   "cell_type": "code",
   "execution_count": 2,
   "id": "94b7d2e0",
   "metadata": {},
   "outputs": [],
   "source": [
    "from pyspark import *\n",
    "from pyspark.sql import *\n",
    "from pyspark.sql.functions import *\n",
    "from pyspark.sql.types import *"
   ]
  },
  {
   "cell_type": "code",
   "execution_count": 3,
   "id": "3f3392f6",
   "metadata": {},
   "outputs": [
    {
     "name": "stderr",
     "output_type": "stream",
     "text": [
      "/home/labuser/.local/lib/python3.6/site-packages/pyspark/context.py:238: FutureWarning: Python 3.6 support is deprecated in Spark 3.2.\n",
      "  FutureWarning\n"
     ]
    }
   ],
   "source": [
    "sc=SparkContext.getOrCreate()"
   ]
  },
  {
   "cell_type": "code",
   "execution_count": 4,
   "id": "e59127de",
   "metadata": {},
   "outputs": [],
   "source": [
    "spark=SparkSession.builder.master('local[*]').appName(\"madhu\").getOrCreate()"
   ]
  },
  {
   "cell_type": "code",
   "execution_count": 5,
   "id": "ed52f669",
   "metadata": {},
   "outputs": [],
   "source": [
    "rdd_data_import=sc.textFile('Madhan/names.csv')"
   ]
  },
  {
   "cell_type": "code",
   "execution_count": 6,
   "id": "569668d3",
   "metadata": {},
   "outputs": [
    {
     "data": {
      "text/plain": [
       "['Name,Email',\n",
       " 'DASAM DURGA SATISH,satishdasam5555@gmail.com',\n",
       " 'M Jaya sekhar,mjsekhar001@gmail.com',\n",
       " 'RAHUL RAVIKANT CHAVAN,RCCHAVAN663@GMAIL.COM',\n",
       " 'kone.Geetha,konegeetha@gmail.com',\n",
       " 'Rohit Bansode,rsbansode2000@gmail.com',\n",
       " 'Kotte Jayakrishna,Jayakrishnakittu79@gmail.com',\n",
       " 'Rekha Santosh kumbharkar,rekhakumbharkar.nbnssoe.entc@gmail.com',\n",
       " 'Yashwant Ganesh Patil,patilyashwant396@gmail.com',\n",
       " 'Randhi Harika,randhi.harika@gmail.com',\n",
       " 'Reddyvari Dhanasekhar Reddy,danashekhar9@gmail.com',\n",
       " 'surisetty gayathri,gayathrisurisetty2002@gmail.com',\n",
       " 'S Jayapraksh,jayaprakash.s1999@gmail.com',\n",
       " 'paturu vineetha,paturuvineetha25@gmail.com',\n",
       " 'MANOJ CHANDRAGIRI,chandragirimanoj143@gmail.com',\n",
       " 'Madhan Mohan Bajanthri,bmadhanmohan123@gmail.com',\n",
       " 'Velkur Charika,velkurcharika@gmail.com',\n",
       " 'Sahil Rohane,sahilrohane11@gmail.com',\n",
       " 'Boddeti Sai Rohit,rohitboddeti@gmail.com',\n",
       " 'Prajwal Ramkrishana Padule,prajwalpadule7@gmail.com',\n",
       " 'G.V Sai Srihitha,saisrihithaganjikunta@gmail.com',\n",
       " 'T.komala,tkomala2001@gmail.com',\n",
       " 'Rutuja Purushottam Chinchghare,rutuchinchghare@gmail.com',\n",
       " 'Aswini Muvva,muvvaaswini99@gmail.com',\n",
       " 'Nayan Bhamare,patilnayan1080@gmail.com',\n",
       " 'Sagar Vilas Pund,sagarvilaspund1999@gmail.com']"
      ]
     },
     "execution_count": 6,
     "metadata": {},
     "output_type": "execute_result"
    }
   ],
   "source": [
    "rdd_data_import.collect()"
   ]
  },
  {
   "cell_type": "code",
   "execution_count": 12,
   "id": "e41780c7",
   "metadata": {},
   "outputs": [
    {
     "ename": "AttributeError",
     "evalue": "'PipelinedRDD' object has no attribute 'show'",
     "output_type": "error",
     "traceback": [
      "\u001b[0;31m---------------------------------------------------------------------------\u001b[0m",
      "\u001b[0;31mAttributeError\u001b[0m                            Traceback (most recent call last)",
      "\u001b[0;32m<ipython-input-12-19eaf7ade2b8>\u001b[0m in \u001b[0;36m<module>\u001b[0;34m\u001b[0m\n\u001b[1;32m      1\u001b[0m \u001b[0msplit_data\u001b[0m\u001b[0;34m=\u001b[0m\u001b[0mrdd_data_import\u001b[0m\u001b[0;34m.\u001b[0m\u001b[0mmap\u001b[0m\u001b[0;34m(\u001b[0m\u001b[0;32mlambda\u001b[0m \u001b[0mx\u001b[0m\u001b[0;34m:\u001b[0m \u001b[0mx\u001b[0m\u001b[0;34m.\u001b[0m\u001b[0msplit\u001b[0m\u001b[0;34m(\u001b[0m\u001b[0;34m\",\"\u001b[0m\u001b[0;34m)\u001b[0m\u001b[0;34m)\u001b[0m\u001b[0;34m\u001b[0m\u001b[0;34m\u001b[0m\u001b[0m\n\u001b[0;32m----> 2\u001b[0;31m \u001b[0msplit_data\u001b[0m\u001b[0;34m.\u001b[0m\u001b[0mshow\u001b[0m\u001b[0;34m(\u001b[0m\u001b[0;34m)\u001b[0m\u001b[0;34m\u001b[0m\u001b[0;34m\u001b[0m\u001b[0m\n\u001b[0m",
      "\u001b[0;31mAttributeError\u001b[0m: 'PipelinedRDD' object has no attribute 'show'"
     ]
    }
   ],
   "source": [
    "split_data=rdd_data_import.map(lambda x: x.split(\",\"))\n",
    "split_data.show()"
   ]
  },
  {
   "cell_type": "code",
   "execution_count": 8,
   "id": "3a27513b",
   "metadata": {},
   "outputs": [
    {
     "data": {
      "text/plain": [
       "[<Row('Name', 'Email')>,\n",
       " <Row('DASAM DURGA SATISH', 'satishdasam5555@gmail.com')>,\n",
       " <Row('M Jaya sekhar', 'mjsekhar001@gmail.com')>,\n",
       " <Row('RAHUL RAVIKANT CHAVAN', 'RCCHAVAN663@GMAIL.COM')>,\n",
       " <Row('kone.Geetha', 'konegeetha@gmail.com')>,\n",
       " <Row('Rohit Bansode', 'rsbansode2000@gmail.com')>,\n",
       " <Row('Kotte Jayakrishna', 'Jayakrishnakittu79@gmail.com')>,\n",
       " <Row('Rekha Santosh kumbharkar', 'rekhakumbharkar.nbnssoe.entc@gmail.com')>,\n",
       " <Row('Yashwant Ganesh Patil', 'patilyashwant396@gmail.com')>,\n",
       " <Row('Randhi Harika', 'randhi.harika@gmail.com')>,\n",
       " <Row('Reddyvari Dhanasekhar Reddy', 'danashekhar9@gmail.com')>,\n",
       " <Row('surisetty gayathri', 'gayathrisurisetty2002@gmail.com')>,\n",
       " <Row('S Jayapraksh', 'jayaprakash.s1999@gmail.com')>,\n",
       " <Row('paturu vineetha', 'paturuvineetha25@gmail.com')>,\n",
       " <Row('MANOJ CHANDRAGIRI', 'chandragirimanoj143@gmail.com')>,\n",
       " <Row('Madhan Mohan Bajanthri', 'bmadhanmohan123@gmail.com')>,\n",
       " <Row('Velkur Charika', 'velkurcharika@gmail.com')>,\n",
       " <Row('Sahil Rohane', 'sahilrohane11@gmail.com')>,\n",
       " <Row('Boddeti Sai Rohit', 'rohitboddeti@gmail.com')>,\n",
       " <Row('Prajwal Ramkrishana Padule', 'prajwalpadule7@gmail.com')>,\n",
       " <Row('G.V Sai Srihitha', 'saisrihithaganjikunta@gmail.com')>,\n",
       " <Row('T.komala', 'tkomala2001@gmail.com')>,\n",
       " <Row('Rutuja Purushottam Chinchghare', 'rutuchinchghare@gmail.com')>,\n",
       " <Row('Aswini Muvva', 'muvvaaswini99@gmail.com')>,\n",
       " <Row('Nayan Bhamare', 'patilnayan1080@gmail.com')>,\n",
       " <Row('Sagar Vilas Pund', 'sagarvilaspund1999@gmail.com')>]"
      ]
     },
     "execution_count": 8,
     "metadata": {},
     "output_type": "execute_result"
    }
   ],
   "source": [
    "data_by_keys=split_data.map(lambda x: Row(x[0].strip(),x[1].strip()))\n",
    "data_by_keys.collect()"
   ]
  },
  {
   "cell_type": "code",
   "execution_count": 9,
   "id": "1571502b",
   "metadata": {},
   "outputs": [],
   "source": [
    "myschema=StructType([\n",
    "    StructField(\"Name\",StringType()),\n",
    "    StructField(\"Email\",StringType())\n",
    "])"
   ]
  },
  {
   "cell_type": "code",
   "execution_count": 10,
   "id": "8f651dfe",
   "metadata": {},
   "outputs": [],
   "source": [
    "data_f=spark.createDataFrame(data=data_by_keys,schema=myschema)"
   ]
  },
  {
   "cell_type": "code",
   "execution_count": 13,
   "id": "f76da6db",
   "metadata": {},
   "outputs": [
    {
     "name": "stdout",
     "output_type": "stream",
     "text": [
      "+--------------------+--------------------+\n",
      "|                Name|               Email|\n",
      "+--------------------+--------------------+\n",
      "|                Name|               Email|\n",
      "|  DASAM DURGA SATISH|satishdasam5555@g...|\n",
      "|       M Jaya sekhar|mjsekhar001@gmail...|\n",
      "|RAHUL RAVIKANT CH...|RCCHAVAN663@GMAIL...|\n",
      "|         kone.Geetha|konegeetha@gmail.com|\n",
      "|       Rohit Bansode|rsbansode2000@gma...|\n",
      "|   Kotte Jayakrishna|Jayakrishnakittu7...|\n",
      "|Rekha Santosh kum...|rekhakumbharkar.n...|\n",
      "|Yashwant Ganesh P...|patilyashwant396@...|\n",
      "|       Randhi Harika|randhi.harika@gma...|\n",
      "|Reddyvari Dhanase...|danashekhar9@gmai...|\n",
      "|  surisetty gayathri|gayathrisurisetty...|\n",
      "|        S Jayapraksh|jayaprakash.s1999...|\n",
      "|     paturu vineetha|paturuvineetha25@...|\n",
      "|   MANOJ CHANDRAGIRI|chandragirimanoj1...|\n",
      "|Madhan Mohan Baja...|bmadhanmohan123@g...|\n",
      "|      Velkur Charika|velkurcharika@gma...|\n",
      "|        Sahil Rohane|sahilrohane11@gma...|\n",
      "|   Boddeti Sai Rohit|rohitboddeti@gmai...|\n",
      "|Prajwal Ramkrisha...|prajwalpadule7@gm...|\n",
      "+--------------------+--------------------+\n",
      "only showing top 20 rows\n",
      "\n"
     ]
    }
   ],
   "source": [
    "data_f.show()"
   ]
  },
  {
   "cell_type": "code",
   "execution_count": 11,
   "id": "4b47c7a1",
   "metadata": {},
   "outputs": [
    {
     "name": "stdout",
     "output_type": "stream",
     "text": [
      "+--------------------+--------------------+\n",
      "|                Name|               Email|\n",
      "+--------------------+--------------------+\n",
      "|  DASAM DURGA SATISH|satishdasam5555@g...|\n",
      "|       M Jaya sekhar|mjsekhar001@gmail...|\n",
      "|RAHUL RAVIKANT CH...|RCCHAVAN663@GMAIL...|\n",
      "|         kone.Geetha|konegeetha@gmail.com|\n",
      "|       Rohit Bansode|rsbansode2000@gma...|\n",
      "|   Kotte Jayakrishna|Jayakrishnakittu7...|\n",
      "|Rekha Santosh kum...|rekhakumbharkar.n...|\n",
      "|Yashwant Ganesh P...|patilyashwant396@...|\n",
      "|       Randhi Harika|randhi.harika@gma...|\n",
      "|Reddyvari Dhanase...|danashekhar9@gmai...|\n",
      "|  surisetty gayathri|gayathrisurisetty...|\n",
      "|        S Jayapraksh|jayaprakash.s1999...|\n",
      "|     paturu vineetha|paturuvineetha25@...|\n",
      "|   MANOJ CHANDRAGIRI|chandragirimanoj1...|\n",
      "|Madhan Mohan Baja...|bmadhanmohan123@g...|\n",
      "|      Velkur Charika|velkurcharika@gma...|\n",
      "|        Sahil Rohane|sahilrohane11@gma...|\n",
      "|   Boddeti Sai Rohit|rohitboddeti@gmai...|\n",
      "|Prajwal Ramkrisha...|prajwalpadule7@gm...|\n",
      "|    G.V Sai Srihitha|saisrihithaganjik...|\n",
      "+--------------------+--------------------+\n",
      "only showing top 20 rows\n",
      "\n"
     ]
    }
   ],
   "source": [
    "data_frame=data_f.where(data_f.Name!='Name')\n",
    "data_frame.show()"
   ]
  },
  {
   "cell_type": "code",
   "execution_count": 51,
   "id": "6ac28822",
   "metadata": {},
   "outputs": [
    {
     "name": "stdout",
     "output_type": "stream",
     "text": [
      "+---------------------------+--------------------------------------+\n",
      "|Name                       |Email                                 |\n",
      "+---------------------------+--------------------------------------+\n",
      "|DASAM DURGA SATISH         |satishdasam5555@gmail.com             |\n",
      "|M Jaya sekhar              |mjsekhar001@gmail.com                 |\n",
      "|RAHUL RAVIKANT CHAVAN      |RCCHAVAN663@GMAIL.COM                 |\n",
      "|kone.Geetha                |konegeetha@gmail.com                  |\n",
      "|Rohit Bansode              |rsbansode2000@gmail.com               |\n",
      "|Kotte Jayakrishna          |Jayakrishnakittu79@gmail.com          |\n",
      "|Rekha Santosh kumbharkar   |rekhakumbharkar.nbnssoe.entc@gmail.com|\n",
      "|Yashwant Ganesh Patil      |patilyashwant396@gmail.com            |\n",
      "|Randhi Harika              |randhi.harika@gmail.com               |\n",
      "|Reddyvari Dhanasekhar Reddy|danashekhar9@gmail.com                |\n",
      "|surisetty gayathri         |gayathrisurisetty2002@gmail.com       |\n",
      "|S Jayapraksh               |jayaprakash.s1999@gmail.com           |\n",
      "|paturu vineetha            |paturuvineetha25@gmail.com            |\n",
      "|MANOJ CHANDRAGIRI          |chandragirimanoj143@gmail.com         |\n",
      "|Madhan Mohan Bajanthri     |bmadhanmohan123@gmail.com             |\n",
      "|Velkur Charika             |velkurcharika@gmail.com               |\n",
      "|Sahil Rohane               |sahilrohane11@gmail.com               |\n",
      "|Boddeti Sai Rohit          |rohitboddeti@gmail.com                |\n",
      "|Prajwal Ramkrishana Padule |prajwalpadule7@gmail.com              |\n",
      "|G.V Sai Srihitha           |saisrihithaganjikunta@gmail.com       |\n",
      "+---------------------------+--------------------------------------+\n",
      "only showing top 20 rows\n",
      "\n"
     ]
    }
   ],
   "source": [
    "data_frame.show(truncate=False)"
   ]
  },
  {
   "cell_type": "code",
   "execution_count": 53,
   "id": "952c1800",
   "metadata": {},
   "outputs": [
    {
     "data": {
      "text/plain": [
       "25"
      ]
     },
     "execution_count": 53,
     "metadata": {},
     "output_type": "execute_result"
    }
   ],
   "source": [
    "data_frame.count()"
   ]
  },
  {
   "cell_type": "code",
   "execution_count": 24,
   "id": "a0178b25",
   "metadata": {},
   "outputs": [
    {
     "name": "stdout",
     "output_type": "stream",
     "text": [
      "+---------------------------+--------------------------------------+---+---------------+\n",
      "|Name                       |Email                                 |age|length_of_email|\n",
      "+---------------------------+--------------------------------------+---+---------------+\n",
      "|DASAM DURGA SATISH         |satishdasam5555@gmail.com             |18 |25             |\n",
      "|M Jaya sekhar              |mjsekhar001@gmail.com                 |13 |21             |\n",
      "|RAHUL RAVIKANT CHAVAN      |RCCHAVAN663@GMAIL.COM                 |21 |21             |\n",
      "|kone.Geetha                |konegeetha@gmail.com                  |11 |20             |\n",
      "|Rohit Bansode              |rsbansode2000@gmail.com               |13 |23             |\n",
      "|Kotte Jayakrishna          |Jayakrishnakittu79@gmail.com          |17 |28             |\n",
      "|Rekha Santosh kumbharkar   |rekhakumbharkar.nbnssoe.entc@gmail.com|24 |38             |\n",
      "|Yashwant Ganesh Patil      |patilyashwant396@gmail.com            |21 |26             |\n",
      "|Randhi Harika              |randhi.harika@gmail.com               |13 |23             |\n",
      "|Reddyvari Dhanasekhar Reddy|danashekhar9@gmail.com                |27 |22             |\n",
      "|surisetty gayathri         |gayathrisurisetty2002@gmail.com       |18 |31             |\n",
      "|S Jayapraksh               |jayaprakash.s1999@gmail.com           |12 |27             |\n",
      "|paturu vineetha            |paturuvineetha25@gmail.com            |15 |26             |\n",
      "|MANOJ CHANDRAGIRI          |chandragirimanoj143@gmail.com         |17 |29             |\n",
      "|Madhan Mohan Bajanthri     |bmadhanmohan123@gmail.com             |22 |25             |\n",
      "|Velkur Charika             |velkurcharika@gmail.com               |14 |23             |\n",
      "|Sahil Rohane               |sahilrohane11@gmail.com               |12 |23             |\n",
      "|Boddeti Sai Rohit          |rohitboddeti@gmail.com                |17 |22             |\n",
      "|Prajwal Ramkrishana Padule |prajwalpadule7@gmail.com              |26 |24             |\n",
      "|G.V Sai Srihitha           |saisrihithaganjikunta@gmail.com       |16 |31             |\n",
      "+---------------------------+--------------------------------------+---+---------------+\n",
      "only showing top 20 rows\n",
      "\n"
     ]
    }
   ],
   "source": [
    "data_frame=data_frame.withColumn('length_of_email',length(data_frame.Email))\n",
    "data_frame.show(truncate=False)"
   ]
  },
  {
   "cell_type": "code",
   "execution_count": 25,
   "id": "86fdb8cc",
   "metadata": {},
   "outputs": [
    {
     "name": "stdout",
     "output_type": "stream",
     "text": [
      "+---+--------+--------------------+\n",
      "|age|max(age)|max(length_of_email)|\n",
      "+---+--------+--------------------+\n",
      "| 27|      27|                  22|\n",
      "| 12|      12|                  27|\n",
      "| 13|      13|                  24|\n",
      "| 15|      15|                  26|\n",
      "| 17|      17|                  29|\n",
      "| 24|      24|                  38|\n",
      "| 21|      21|                  26|\n",
      "| 11|      11|                  20|\n",
      "| 18|      18|                  31|\n",
      "| 26|      26|                  24|\n",
      "| 22|      22|                  25|\n",
      "| 16|      16|                  31|\n",
      "|  8|       8|                  21|\n",
      "| 14|      14|                  23|\n",
      "| 30|      30|                  25|\n",
      "+---+--------+--------------------+\n",
      "\n"
     ]
    }
   ],
   "source": [
    "data_frame.groupBy('age').max().alias(\"max_age\").show()"
   ]
  },
  {
   "cell_type": "code",
   "execution_count": null,
   "id": "67bd1943",
   "metadata": {},
   "outputs": [],
   "source": []
  },
  {
   "cell_type": "code",
   "execution_count": null,
   "id": "b9cbe1da",
   "metadata": {},
   "outputs": [],
   "source": []
  }
 ],
 "metadata": {
  "kernelspec": {
   "display_name": "Python 3.6.8 64-bit",
   "language": "python",
   "name": "python36864bit3e2a3d03c3444a89844a2dcf38e2377c"
  },
  "language_info": {
   "codemirror_mode": {
    "name": "ipython",
    "version": 3
   },
   "file_extension": ".py",
   "mimetype": "text/x-python",
   "name": "python",
   "nbconvert_exporter": "python",
   "pygments_lexer": "ipython3",
   "version": "3.6.8"
  }
 },
 "nbformat": 4,
 "nbformat_minor": 5
}

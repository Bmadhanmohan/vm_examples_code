{
 "cells": [
  {
   "cell_type": "code",
   "execution_count": 1,
   "id": "8118cd4d",
   "metadata": {},
   "outputs": [
    {
     "data": {
      "text/plain": [
       "'\\nIn Apache Spark, DataFrames are a higher-level abstraction built on top of RDDs, providing a more structured and efficient way to work with distributed data. DataFrame operations can be categorized into two types: Transformations and Actions.\\n\\nTransformations:\\n\\nSelect/Project: Choose specific columns from the DataFrame.\\nFilter/Where: Apply a condition to filter rows.\\nGroupBy: Group the DataFrame based on one or more columns.\\nSort/OrderBy: Sort the DataFrame based on one or more columns.\\nJoin: Perform various types of joins between DataFrames.\\nUnion: Combine two DataFrames with the same schema.\\nDrop: Remove specified columns from the DataFrame.\\nWithColumn: Add or replace a column with a new one.\\nAggregations: Perform various aggregations like sum, avg, min, max, etc.\\nDistinct: Return distinct rows from the DataFrame.\\nLimit: Limit the number of rows in the DataFrame.\\nActions:\\n\\nShow: Display the content of the DataFrame in a tabular form.\\nCount: Return the number of rows in the DataFrame.\\nFirst: Return the first row of the DataFrame.\\nCollect: Return all rows of the DataFrame as an array to the driver program.\\nWrite: Save the DataFrame to an external storage system (e.g., Parquet, CSV, etc.).\\nDescribe: Compute summary statistics for numerical columns.\\nPrintSchema: Display the schema of the DataFrame.\\nHead: Return the first n rows of the DataFrame.\\n'"
      ]
     },
     "execution_count": 1,
     "metadata": {},
     "output_type": "execute_result"
    }
   ],
   "source": [
    "\"\"\"\n",
    "In Apache Spark, DataFrames are a higher-level abstraction built on top of RDDs, providing a more structured and efficient way to work with distributed data. DataFrame operations can be categorized into two types: Transformations and Actions.\n",
    "\n",
    "Transformations:\n",
    "\n",
    "Select/Project: Choose specific columns from the DataFrame.\n",
    "Filter/Where: Apply a condition to filter rows.\n",
    "GroupBy: Group the DataFrame based on one or more columns.\n",
    "Sort/OrderBy: Sort the DataFrame based on one or more columns.\n",
    "Join: Perform various types of joins between DataFrames.\n",
    "Union: Combine two DataFrames with the same schema.\n",
    "Drop: Remove specified columns from the DataFrame.\n",
    "WithColumn: Add or replace a column with a new one.\n",
    "Aggregations: Perform various aggregations like sum, avg, min, max, etc.\n",
    "Distinct: Return distinct rows from the DataFrame.\n",
    "Limit: Limit the number of rows in the DataFrame.\n",
    "Actions:\n",
    "\n",
    "Show: Display the content of the DataFrame in a tabular form.\n",
    "Count: Return the number of rows in the DataFrame.\n",
    "First: Return the first row of the DataFrame.\n",
    "Collect: Return all rows of the DataFrame as an array to the driver program.\n",
    "Write: Save the DataFrame to an external storage system (e.g., Parquet, CSV, etc.).\n",
    "Describe: Compute summary statistics for numerical columns.\n",
    "PrintSchema: Display the schema of the DataFrame.\n",
    "Head: Return the first n rows of the DataFrame.\n",
    "\"\"\""
   ]
  },
  {
   "cell_type": "code",
   "execution_count": 5,
   "id": "1fc97e46",
   "metadata": {},
   "outputs": [],
   "source": [
    "from pyspark import *\n",
    "from pyspark.sql import *\n",
    "from pyspark.sql.types import *\n",
    "from pyspark.sql.functions import *"
   ]
  },
  {
   "cell_type": "code",
   "execution_count": 16,
   "id": "cf6b7180",
   "metadata": {},
   "outputs": [],
   "source": [
    "data = [\n",
    "    (1, \"Electronics\", 500.0),\n",
    "    (2, \"Clothing\", 30.9),\n",
    "    (3, \"Electronics\", 80.0),\n",
    "    (4, \"Clothing\", 25.0),\n",
    "    (5, \"Books\", 20.0),\n",
    "    (6, \"Electronics\", 700.0),\n",
    "    (7, \"Books\", 15.0),\n",
    "    (8, \"Clothing\", 35.0),\n",
    "    (9, \"Electronics\", 600.0),\n",
    "    (10, \"Books\", 25.0)\n",
    "]"
   ]
  },
  {
   "cell_type": "code",
   "execution_count": 17,
   "id": "b36d124a",
   "metadata": {},
   "outputs": [],
   "source": [
    "product_schema = StructType([\n",
    "    StructField(\"product_id\", IntegerType(), True),\n",
    "    StructField(\"category\", StringType(), True),\n",
    "    StructField(\"price\", FloatType(), True)\n",
    "])"
   ]
  },
  {
   "cell_type": "code",
   "execution_count": 18,
   "id": "91c4e9e6",
   "metadata": {},
   "outputs": [],
   "source": [
    "spark = SparkSession.builder.appName(\"example\").getOrCreate()\n",
    "\n"
   ]
  },
  {
   "cell_type": "code",
   "execution_count": 19,
   "id": "2ecab44c",
   "metadata": {},
   "outputs": [],
   "source": [
    "products_df = spark.createDataFrame(data,schema=product_schema)"
   ]
  },
  {
   "cell_type": "code",
   "execution_count": 23,
   "id": "9c017b32",
   "metadata": {},
   "outputs": [
    {
     "name": "stdout",
     "output_type": "stream",
     "text": [
      "+----------+-----------+-----+\n",
      "|product_id|   category|price|\n",
      "+----------+-----------+-----+\n",
      "|         1|Electronics|500.0|\n",
      "|         2|   Clothing| 30.9|\n",
      "|         3|Electronics| 80.0|\n",
      "|         4|   Clothing| 25.0|\n",
      "|         5|      Books| 20.0|\n",
      "|         6|Electronics|700.0|\n",
      "|         7|      Books| 15.0|\n",
      "|         8|   Clothing| 35.0|\n",
      "|         9|Electronics|600.0|\n",
      "|        10|      Books| 25.0|\n",
      "+----------+-----------+-----+\n",
      "\n"
     ]
    }
   ],
   "source": [
    "products_df.show()"
   ]
  },
  {
   "cell_type": "code",
   "execution_count": 20,
   "id": "fabbd4ef",
   "metadata": {},
   "outputs": [],
   "source": [
    "result_df = (\n",
    "    products_df\n",
    "    .groupBy(\"category\")\n",
    "    .agg(count(\"*\").alias(\"product_count\"))\n",
    "    .orderBy(col(\"product_count\").desc())\n",
    "    .limit(3)\n",
    ")"
   ]
  },
  {
   "cell_type": "code",
   "execution_count": 21,
   "id": "bafbbc95",
   "metadata": {},
   "outputs": [
    {
     "name": "stdout",
     "output_type": "stream",
     "text": [
      "+-----------+-------------+\n",
      "|   category|product_count|\n",
      "+-----------+-------------+\n",
      "|Electronics|            4|\n",
      "|   Clothing|            3|\n",
      "|      Books|            3|\n",
      "+-----------+-------------+\n",
      "\n"
     ]
    }
   ],
   "source": [
    "result_df.show()"
   ]
  },
  {
   "cell_type": "code",
   "execution_count": 24,
   "id": "1324b366",
   "metadata": {},
   "outputs": [
    {
     "name": "stdout",
     "output_type": "stream",
     "text": [
      "+----------+-----------+-----+-----+\n",
      "|product_id|   category|price|sales|\n",
      "+----------+-----------+-----+-----+\n",
      "|         1|Electronics|500.0|    1|\n",
      "|         2|   Clothing| 30.9|    1|\n",
      "|         3|Electronics| 80.0|    1|\n",
      "|         4|   Clothing| 25.0|    1|\n",
      "|         5|      Books| 20.0|    1|\n",
      "|         6|Electronics|700.0|    1|\n",
      "|         7|      Books| 15.0|    1|\n",
      "|         8|   Clothing| 35.0|    1|\n",
      "|         9|Electronics|600.0|    1|\n",
      "|        10|      Books| 25.0|    1|\n",
      "+----------+-----------+-----+-----+\n",
      "\n"
     ]
    }
   ],
   "source": [
    "products_df.withColumn('sales',lit(1)).show()"
   ]
  },
  {
   "cell_type": "code",
   "execution_count": 41,
   "id": "5d0a5863",
   "metadata": {},
   "outputs": [],
   "source": [
    "products_df=products_df.withColumn('sales',when(products_df.product_id==6,24).when(products_df.product_id==8,8).otherwise(18))"
   ]
  },
  {
   "cell_type": "code",
   "execution_count": 42,
   "id": "679c472e",
   "metadata": {},
   "outputs": [
    {
     "name": "stdout",
     "output_type": "stream",
     "text": [
      "+----------+-----------+-----+-----+\n",
      "|product_id|   category|price|sales|\n",
      "+----------+-----------+-----+-----+\n",
      "|         1|Electronics|500.0|   18|\n",
      "|         2|   Clothing| 30.9|   18|\n",
      "|         3|Electronics| 80.0|   18|\n",
      "|         4|   Clothing| 25.0|   18|\n",
      "|         5|      Books| 20.0|   18|\n",
      "|         6|Electronics|700.0|   24|\n",
      "|         7|      Books| 15.0|   18|\n",
      "|         8|   Clothing| 35.0|    8|\n",
      "|         9|Electronics|600.0|   18|\n",
      "|        10|      Books| 25.0|   18|\n",
      "+----------+-----------+-----+-----+\n",
      "\n"
     ]
    }
   ],
   "source": [
    "products_df.show()"
   ]
  },
  {
   "cell_type": "code",
   "execution_count": 68,
   "id": "0dbf4f3e",
   "metadata": {},
   "outputs": [],
   "source": [
    "def ratiofun(x,y):\n",
    "    return x//y"
   ]
  },
  {
   "cell_type": "code",
   "execution_count": 80,
   "id": "c5581e25",
   "metadata": {},
   "outputs": [],
   "source": [
    "products_df=products_df.withColumn('price',products_df['price'].cast(IntegerType()))"
   ]
  },
  {
   "cell_type": "code",
   "execution_count": 81,
   "id": "d91e0e63",
   "metadata": {},
   "outputs": [
    {
     "name": "stdout",
     "output_type": "stream",
     "text": [
      "+----------+-----------+-----+-----+\n",
      "|product_id|   category|price|sales|\n",
      "+----------+-----------+-----+-----+\n",
      "|         1|Electronics|  500|   18|\n",
      "|         2|   Clothing|   30|   18|\n",
      "|         3|Electronics|   80|   18|\n",
      "|         4|   Clothing|   25|   18|\n",
      "|         5|      Books|   20|   18|\n",
      "|         6|Electronics|  700|   24|\n",
      "|         7|      Books|   15|   18|\n",
      "|         8|   Clothing|   35|    8|\n",
      "|         9|Electronics|  600|   18|\n",
      "|        10|      Books|   25|   18|\n",
      "+----------+-----------+-----+-----+\n",
      "\n"
     ]
    }
   ],
   "source": [
    "products_df.show()"
   ]
  },
  {
   "cell_type": "code",
   "execution_count": 92,
   "id": "30354cd4",
   "metadata": {},
   "outputs": [
    {
     "name": "stdout",
     "output_type": "stream",
     "text": [
      "+----------+-----------+-----+-----+-------------------+\n",
      "|product_id|   category|price|sales|              ratio|\n",
      "+----------+-----------+-----+-----+-------------------+\n",
      "|         1|Electronics|  500|   18|              0.036|\n",
      "|         2|   Clothing|   30|   18|                0.6|\n",
      "|         3|Electronics|   80|   18|              0.225|\n",
      "|         4|   Clothing|   25|   18|               0.72|\n",
      "|         5|      Books|   20|   18|                0.9|\n",
      "|         6|Electronics|  700|   24|0.03428571428571429|\n",
      "|         7|      Books|   15|   18|                1.2|\n",
      "|         8|   Clothing|   35|    8|0.22857142857142856|\n",
      "|         9|Electronics|  600|   18|               0.03|\n",
      "|        10|      Books|   25|   18|               0.72|\n",
      "+----------+-----------+-----+-----+-------------------+\n",
      "\n"
     ]
    }
   ],
   "source": [
    "products_df.withColumn('ratio',products_df.sales/products_df.price).show()"
   ]
  },
  {
   "cell_type": "code",
   "execution_count": null,
   "id": "ec125a3f",
   "metadata": {},
   "outputs": [],
   "source": []
  },
  {
   "cell_type": "code",
   "execution_count": null,
   "id": "5efc3478",
   "metadata": {},
   "outputs": [],
   "source": []
  },
  {
   "cell_type": "code",
   "execution_count": null,
   "id": "4ef84a60",
   "metadata": {},
   "outputs": [],
   "source": []
  },
  {
   "cell_type": "code",
   "execution_count": null,
   "id": "7856750c",
   "metadata": {},
   "outputs": [],
   "source": []
  },
  {
   "cell_type": "code",
   "execution_count": null,
   "id": "86c5429b",
   "metadata": {},
   "outputs": [],
   "source": []
  },
  {
   "cell_type": "code",
   "execution_count": 76,
   "id": "8f366781",
   "metadata": {},
   "outputs": [],
   "source": [
    "self.spark=SparkSession.builder.master('local').appName('job posting Analysis').getOrCreate()\n",
    "return self.spark"
   ]
  },
  {
   "cell_type": "code",
   "execution_count": null,
   "id": "8b53ae65",
   "metadata": {},
   "outputs": [],
   "source": []
  },
  {
   "cell_type": "code",
   "execution_count": null,
   "id": "e795bb9c",
   "metadata": {},
   "outputs": [],
   "source": [
    "jobpostings.createOrReplaceTempView('jobs')\n",
    "return self.spark.sql(f'select * from jobs  where department={department}')"
   ]
  },
  {
   "cell_type": "code",
   "execution_count": null,
   "id": "000d1433",
   "metadata": {},
   "outputs": [],
   "source": [
    "jobpostings.createOrReplaceTempView('jobs')\n",
    "num=self.spark.sql(f'select sum(numpositions) from jobs').first()[0]\n",
    "return num"
   ]
  },
  {
   "cell_type": "code",
   "execution_count": null,
   "id": "d203a8c2",
   "metadata": {},
   "outputs": [],
   "source": []
  }
 ],
 "metadata": {
  "kernelspec": {
   "display_name": "Python 3.6.8 64-bit",
   "language": "python",
   "name": "python36864bit3e2a3d03c3444a89844a2dcf38e2377c"
  },
  "language_info": {
   "codemirror_mode": {
    "name": "ipython",
    "version": 3
   },
   "file_extension": ".py",
   "mimetype": "text/x-python",
   "name": "python",
   "nbconvert_exporter": "python",
   "pygments_lexer": "ipython3",
   "version": "3.6.8"
  }
 },
 "nbformat": 4,
 "nbformat_minor": 5
}

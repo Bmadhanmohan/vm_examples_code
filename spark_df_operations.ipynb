{
 "cells": [
  {
   "cell_type": "code",
   "execution_count": 1,
   "id": "cdedf88f",
   "metadata": {},
   "outputs": [],
   "source": [
    "from pyspark import *\n",
    "from pyspark.sql import *\n",
    "from pyspark.sql.types import *\n",
    "from pyspark.sql.functions import *"
   ]
  },
  {
   "cell_type": "code",
   "execution_count": 2,
   "id": "953acd50",
   "metadata": {},
   "outputs": [],
   "source": [
    "def create_spark_session():\n",
    "    spark=SparkSession.builder.master('local[*]').appName('Spark operatons').getOrCreate()\n",
    "    return spark"
   ]
  },
  {
   "cell_type": "code",
   "execution_count": 3,
   "id": "67d17387",
   "metadata": {},
   "outputs": [],
   "source": [
    "myschema=StructType([StructField(\"id\",IntegerType())])"
   ]
  },
  {
   "cell_type": "code",
   "execution_count": 4,
   "id": "9f81fb18",
   "metadata": {},
   "outputs": [],
   "source": [
    "def read_json_data():\n",
    "    json_data=spark.read.format('json').load('hdfs://cdhserver:8020/user/labuser/madhan/books.json')\n",
    "    return json_data"
   ]
  },
  {
   "cell_type": "code",
   "execution_count": 5,
   "id": "e2e875af",
   "metadata": {},
   "outputs": [
    {
     "name": "stderr",
     "output_type": "stream",
     "text": [
      "/home/labuser/.local/lib/python3.6/site-packages/pyspark/context.py:238: FutureWarning: Python 3.6 support is deprecated in Spark 3.2.\n",
      "  FutureWarning\n"
     ]
    }
   ],
   "source": [
    "spark=create_spark_session()"
   ]
  },
  {
   "cell_type": "code",
   "execution_count": 6,
   "id": "545e434c",
   "metadata": {},
   "outputs": [],
   "source": [
    "data=read_json_data()"
   ]
  },
  {
   "cell_type": "code",
   "execution_count": 7,
   "id": "9ed4379a",
   "metadata": {},
   "outputs": [
    {
     "name": "stdout",
     "output_type": "stream",
     "text": [
      "root\n",
      " |-- _id: string (nullable = true)\n",
      " |-- authors: array (nullable = true)\n",
      " |    |-- element: string (containsNull = true)\n",
      " |-- categories: array (nullable = true)\n",
      " |    |-- element: string (containsNull = true)\n",
      " |-- isbn: string (nullable = true)\n",
      " |-- longDescription: string (nullable = true)\n",
      " |-- pageCount: long (nullable = true)\n",
      " |-- publishedDate: struct (nullable = true)\n",
      " |    |-- $date: string (nullable = true)\n",
      " |-- shortDescription: string (nullable = true)\n",
      " |-- status: string (nullable = true)\n",
      " |-- thumbnailUrl: string (nullable = true)\n",
      " |-- title: string (nullable = true)\n",
      "\n"
     ]
    }
   ],
   "source": [
    "data.printSchema()"
   ]
  },
  {
   "cell_type": "code",
   "execution_count": 11,
   "id": "aa0221cb",
   "metadata": {},
   "outputs": [],
   "source": [
    "data=data.drop('longDescription')"
   ]
  },
  {
   "cell_type": "code",
   "execution_count": 13,
   "id": "43a32ca0",
   "metadata": {},
   "outputs": [],
   "source": [
    "data=data.drop('shortDescription')"
   ]
  },
  {
   "cell_type": "code",
   "execution_count": 15,
   "id": "01bb47a2",
   "metadata": {},
   "outputs": [],
   "source": [
    "data=data.drop('thumbnail')"
   ]
  },
  {
   "cell_type": "code",
   "execution_count": 19,
   "id": "02735dd7",
   "metadata": {},
   "outputs": [
    {
     "name": "stdout",
     "output_type": "stream",
     "text": [
      "+---+----------+----------+----------+---------+-------------+-------+------------+----------+\n",
      "|_id|   authors|categories|      isbn|pageCount|publishedDate| status|thumbnailUrl|     title|\n",
      "+---+----------+----------+----------+---------+-------------+-------+------------+----------+\n",
      "|  1|[W. Fra...|[Open S...|1933988673|      416|   {2009-0...|PUBLISH|  https:/...|Unlocki...|\n",
      "|  2|[W. Fra...|    [Java]|1935182722|      592|   {2011-0...|PUBLISH|  https:/...|Android...|\n",
      "|  3|[Gojko ...|[Softwa...|1617290084|        0|   {2011-0...|PUBLISH|  https:/...|Specifi...|\n",
      "|  4|[Tariq ...|[Internet]|1933988746|      576|   {2009-0...|PUBLISH|  https:/...|Flex 3 ...|\n",
      "|  5|[Tariq ...|[Internet]|1935182420|      600|   {2010-1...|PUBLISH|  https:/...|Flex 4 ...|\n",
      "|  6|[Satnam...|[Internet]|1933988312|      425|   {2008-1...|PUBLISH|  https:/...|Collect...|\n",
      "|  7|[Rob Al...|[Web De...|1933988320|      432|   {2008-1...|PUBLISH|  https:/...|Zend Fr...|\n",
      "|  8|[Berner...|[Internet]|1933988797|      265|   {2010-1...|PUBLISH|  https:/...|Flex on...|\n",
      "|  9|[Andres...|    [Java]|1935182234|      375|   {2012-0...|PUBLISH|  https:/...|Griffon...|\n",
      "| 10|[Alexan...|    [Java]|193518217X|      325|   {2011-1...|PUBLISH|  https:/...|OSGi in...|\n",
      "| 11|[Peter ...|[Web De...|1933988509|      592|   {2008-0...|PUBLISH|  https:/...|Flexibl...|\n",
      "| 13|[Peter ...|[Internet]|1933988762|      258|   {2009-1...|PUBLISH|  https:/...|Hello! ...|\n",
      "| 14|[Levi A...|[Miscel...|1884777384|      316|   {1997-0...|PUBLISH|  https:/...|Coffeeh...|\n",
      "| 15|[Jamil ...|[Micros...|1933988592|      344|   {2008-1...|PUBLISH|  https:/...|Team Fo...|\n",
      "| 16|[Kyle B...|[Micros...|1933988711|      550|   {2010-0...|PUBLISH|  https:/...|Brownfi...|\n",
      "| 17|[Kyle B...|[Next G...|1935182870|        0|   {2011-1...|PUBLISH|  https:/...|MongoDB...|\n",
      "| 18|[Michae...|[PowerB...|1884777686|      504|   {1998-0...|PUBLISH|        null|Distrib...|\n",
      "| 19|[Michae...|[PowerB...|1884777864|      550|   {1999-0...|PUBLISH|  https:/...|Jaguar ...|\n",
      "| 20|[Michae...|[PowerB...|1884777686|      362|   {2000-0...|PUBLISH|  https:/...|Taming ...|\n",
      "| 21|[Jon Ba...|[Java, ...|1884777902|      520|   {2000-0...|PUBLISH|  https:/...|3D User...|\n",
      "+---+----------+----------+----------+---------+-------------+-------+------------+----------+\n",
      "only showing top 20 rows\n",
      "\n"
     ]
    }
   ],
   "source": [
    "data.show(truncate=10)"
   ]
  },
  {
   "cell_type": "code",
   "execution_count": 33,
   "id": "36d4a343",
   "metadata": {},
   "outputs": [
    {
     "name": "stdout",
     "output_type": "stream",
     "text": [
      "+--------------------------------------------------------+\n",
      "|authors                                                 |\n",
      "+--------------------------------------------------------+\n",
      "|[W. Frank Ableson, Charlie Collins, Robi Sen]           |\n",
      "|[W. Frank Ableson, Robi Sen]                            |\n",
      "|[Gojko Adzic]                                           |\n",
      "|[Tariq Ahmed with Jon Hirschi, Faisal Abid]             |\n",
      "|[Tariq Ahmed, Dan Orlando, John C. Bland II, Joel Hooks]|\n",
      "|[Satnam Alag]                                           |\n",
      "|[Rob Allen, Nick Lo, Steven Brown]                      |\n",
      "|[Bernerd Allmon, Jeremy Anderson]                       |\n",
      "|[Andres Almiray, Danno Ferrin, , James Shingler]        |\n",
      "|[Alexandre de Castro Alves]                             |\n",
      "|[Peter Armstrong]                                       |\n",
      "|[Peter Armstrong]                                       |\n",
      "|[Levi Asher, Christian Crumlish]                        |\n",
      "|[Jamil Azher]                                           |\n",
      "|[Kyle Baley, Donald Belcham]                            |\n",
      "|[Kyle Banker]                                           |\n",
      "|[Michael J. Barlotta]                                   |\n",
      "|[Michael Barlotta]                                      |\n",
      "|[Michael J. Barlotta, Jason R. Weiss]                   |\n",
      "|[Jon Barrilleaux]                                       |\n",
      "+--------------------------------------------------------+\n",
      "only showing top 20 rows\n",
      "\n"
     ]
    }
   ],
   "source": [
    "data.select('authors').show(truncate=False)"
   ]
  },
  {
   "cell_type": "code",
   "execution_count": 47,
   "id": "545759ab",
   "metadata": {},
   "outputs": [],
   "source": [
    "patt=r'[abc]'"
   ]
  },
  {
   "cell_type": "code",
   "execution_count": 50,
   "id": "ba509847",
   "metadata": {},
   "outputs": [
    {
     "ename": "AnalysisException",
     "evalue": "cannot resolve 'regexp_extract(authors, '[abc]', 0)' due to data type mismatch: argument 1 requires string type, however, 'authors' is of array<string> type.;\n'Project [_id#7, authors#8, categories#9, isbn#10, pageCount#12L, publishedDate#13, status#15, thumbnailUrl#16, title#17, regexp_extract(authors#8, [abc], 0) AS data_tool#438]\n+- Project [_id#7, authors#8, categories#9, isbn#10, pageCount#12L, publishedDate#13, status#15, thumbnailUrl#16, title#17]\n   +- Project [_id#7, authors#8, categories#9, isbn#10, pageCount#12L, publishedDate#13, shortDescription#14, status#15, thumbnailUrl#16, title#17]\n      +- Relation [_id#7,authors#8,categories#9,isbn#10,longDescription#11,pageCount#12L,publishedDate#13,shortDescription#14,status#15,thumbnailUrl#16,title#17] json\n",
     "output_type": "error",
     "traceback": [
      "\u001b[0;31m---------------------------------------------------------------------------\u001b[0m",
      "\u001b[0;31mAnalysisException\u001b[0m                         Traceback (most recent call last)",
      "\u001b[0;32m<ipython-input-50-0f1e01c8851c>\u001b[0m in \u001b[0;36m<module>\u001b[0;34m\u001b[0m\n\u001b[0;32m----> 1\u001b[0;31m \u001b[0mdata\u001b[0m\u001b[0;34m.\u001b[0m\u001b[0mwithColumn\u001b[0m\u001b[0;34m(\u001b[0m\u001b[0;34m'data_tool'\u001b[0m\u001b[0;34m,\u001b[0m\u001b[0mregexp_extract\u001b[0m\u001b[0;34m(\u001b[0m\u001b[0;34m'authors'\u001b[0m\u001b[0;34m,\u001b[0m\u001b[0mpatt\u001b[0m\u001b[0;34m,\u001b[0m\u001b[0;36m0\u001b[0m\u001b[0;34m)\u001b[0m\u001b[0;34m)\u001b[0m\u001b[0;34m.\u001b[0m\u001b[0mshow\u001b[0m\u001b[0;34m(\u001b[0m\u001b[0;34m)\u001b[0m\u001b[0;34m\u001b[0m\u001b[0;34m\u001b[0m\u001b[0m\n\u001b[0m",
      "\u001b[0;32m~/.local/lib/python3.6/site-packages/pyspark/sql/dataframe.py\u001b[0m in \u001b[0;36mwithColumn\u001b[0;34m(self, colName, col)\u001b[0m\n\u001b[1;32m   2476\u001b[0m         \u001b[0;32mif\u001b[0m \u001b[0;32mnot\u001b[0m \u001b[0misinstance\u001b[0m\u001b[0;34m(\u001b[0m\u001b[0mcol\u001b[0m\u001b[0;34m,\u001b[0m \u001b[0mColumn\u001b[0m\u001b[0;34m)\u001b[0m\u001b[0;34m:\u001b[0m\u001b[0;34m\u001b[0m\u001b[0;34m\u001b[0m\u001b[0m\n\u001b[1;32m   2477\u001b[0m             \u001b[0;32mraise\u001b[0m \u001b[0mTypeError\u001b[0m\u001b[0;34m(\u001b[0m\u001b[0;34m\"col should be Column\"\u001b[0m\u001b[0;34m)\u001b[0m\u001b[0;34m\u001b[0m\u001b[0;34m\u001b[0m\u001b[0m\n\u001b[0;32m-> 2478\u001b[0;31m         \u001b[0;32mreturn\u001b[0m \u001b[0mDataFrame\u001b[0m\u001b[0;34m(\u001b[0m\u001b[0mself\u001b[0m\u001b[0;34m.\u001b[0m\u001b[0m_jdf\u001b[0m\u001b[0;34m.\u001b[0m\u001b[0mwithColumn\u001b[0m\u001b[0;34m(\u001b[0m\u001b[0mcolName\u001b[0m\u001b[0;34m,\u001b[0m \u001b[0mcol\u001b[0m\u001b[0;34m.\u001b[0m\u001b[0m_jc\u001b[0m\u001b[0;34m)\u001b[0m\u001b[0;34m,\u001b[0m \u001b[0mself\u001b[0m\u001b[0;34m.\u001b[0m\u001b[0msql_ctx\u001b[0m\u001b[0;34m)\u001b[0m\u001b[0;34m\u001b[0m\u001b[0;34m\u001b[0m\u001b[0m\n\u001b[0m\u001b[1;32m   2479\u001b[0m \u001b[0;34m\u001b[0m\u001b[0m\n\u001b[1;32m   2480\u001b[0m     \u001b[0;32mdef\u001b[0m \u001b[0mwithColumnRenamed\u001b[0m\u001b[0;34m(\u001b[0m\u001b[0mself\u001b[0m\u001b[0;34m,\u001b[0m \u001b[0mexisting\u001b[0m\u001b[0;34m,\u001b[0m \u001b[0mnew\u001b[0m\u001b[0;34m)\u001b[0m\u001b[0;34m:\u001b[0m\u001b[0;34m\u001b[0m\u001b[0;34m\u001b[0m\u001b[0m\n",
      "\u001b[0;32m~/.local/lib/python3.6/site-packages/py4j/java_gateway.py\u001b[0m in \u001b[0;36m__call__\u001b[0;34m(self, *args)\u001b[0m\n\u001b[1;32m   1320\u001b[0m         \u001b[0manswer\u001b[0m \u001b[0;34m=\u001b[0m \u001b[0mself\u001b[0m\u001b[0;34m.\u001b[0m\u001b[0mgateway_client\u001b[0m\u001b[0;34m.\u001b[0m\u001b[0msend_command\u001b[0m\u001b[0;34m(\u001b[0m\u001b[0mcommand\u001b[0m\u001b[0;34m)\u001b[0m\u001b[0;34m\u001b[0m\u001b[0;34m\u001b[0m\u001b[0m\n\u001b[1;32m   1321\u001b[0m         return_value = get_return_value(\n\u001b[0;32m-> 1322\u001b[0;31m             answer, self.gateway_client, self.target_id, self.name)\n\u001b[0m\u001b[1;32m   1323\u001b[0m \u001b[0;34m\u001b[0m\u001b[0m\n\u001b[1;32m   1324\u001b[0m         \u001b[0;32mfor\u001b[0m \u001b[0mtemp_arg\u001b[0m \u001b[0;32min\u001b[0m \u001b[0mtemp_args\u001b[0m\u001b[0;34m:\u001b[0m\u001b[0;34m\u001b[0m\u001b[0;34m\u001b[0m\u001b[0m\n",
      "\u001b[0;32m~/.local/lib/python3.6/site-packages/pyspark/sql/utils.py\u001b[0m in \u001b[0;36mdeco\u001b[0;34m(*a, **kw)\u001b[0m\n\u001b[1;32m    115\u001b[0m                 \u001b[0;31m# Hide where the exception came from that shows a non-Pythonic\u001b[0m\u001b[0;34m\u001b[0m\u001b[0;34m\u001b[0m\u001b[0;34m\u001b[0m\u001b[0m\n\u001b[1;32m    116\u001b[0m                 \u001b[0;31m# JVM exception message.\u001b[0m\u001b[0;34m\u001b[0m\u001b[0;34m\u001b[0m\u001b[0;34m\u001b[0m\u001b[0m\n\u001b[0;32m--> 117\u001b[0;31m                 \u001b[0;32mraise\u001b[0m \u001b[0mconverted\u001b[0m \u001b[0;32mfrom\u001b[0m \u001b[0;32mNone\u001b[0m\u001b[0;34m\u001b[0m\u001b[0;34m\u001b[0m\u001b[0m\n\u001b[0m\u001b[1;32m    118\u001b[0m             \u001b[0;32melse\u001b[0m\u001b[0;34m:\u001b[0m\u001b[0;34m\u001b[0m\u001b[0;34m\u001b[0m\u001b[0m\n\u001b[1;32m    119\u001b[0m                 \u001b[0;32mraise\u001b[0m\u001b[0;34m\u001b[0m\u001b[0;34m\u001b[0m\u001b[0m\n",
      "\u001b[0;31mAnalysisException\u001b[0m: cannot resolve 'regexp_extract(authors, '[abc]', 0)' due to data type mismatch: argument 1 requires string type, however, 'authors' is of array<string> type.;\n'Project [_id#7, authors#8, categories#9, isbn#10, pageCount#12L, publishedDate#13, status#15, thumbnailUrl#16, title#17, regexp_extract(authors#8, [abc], 0) AS data_tool#438]\n+- Project [_id#7, authors#8, categories#9, isbn#10, pageCount#12L, publishedDate#13, status#15, thumbnailUrl#16, title#17]\n   +- Project [_id#7, authors#8, categories#9, isbn#10, pageCount#12L, publishedDate#13, shortDescription#14, status#15, thumbnailUrl#16, title#17]\n      +- Relation [_id#7,authors#8,categories#9,isbn#10,longDescription#11,pageCount#12L,publishedDate#13,shortDescription#14,status#15,thumbnailUrl#16,title#17] json\n"
     ]
    }
   ],
   "source": [
    "data.withColumn('data_tool',regexp_extract('authors',patt,0)).show()"
   ]
  },
  {
   "cell_type": "code",
   "execution_count": null,
   "id": "d778e59c",
   "metadata": {},
   "outputs": [],
   "source": []
  }
 ],
 "metadata": {
  "kernelspec": {
   "display_name": "Python 3.6.8 64-bit",
   "language": "python",
   "name": "python36864bit3e2a3d03c3444a89844a2dcf38e2377c"
  },
  "language_info": {
   "codemirror_mode": {
    "name": "ipython",
    "version": 3
   },
   "file_extension": ".py",
   "mimetype": "text/x-python",
   "name": "python",
   "nbconvert_exporter": "python",
   "pygments_lexer": "ipython3",
   "version": "3.6.8"
  }
 },
 "nbformat": 4,
 "nbformat_minor": 5
}
